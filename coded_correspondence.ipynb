{
 "cells": [
  {
   "cell_type": "markdown",
   "metadata": {},
   "source": [
    "# Casual Coded Correspondence: The Project\n",
    "\n",
    "In this project, you will be working to code and decode various messages between you and your fictional cryptography enthusiast pen pal Vishal. You and Vishal have been exchanging letters for quite some time now and have started to provide a puzzle in each one of your letters.  Here is his most recent letter:\n",
    "\n",
    "     Hey there! How have you been? I've been great! I just learned about this really cool type of cipher called a  Caesar Cipher. Here's how it works: You take your message, something like \"hello\" and then you shift all of the letters by a certain offset. For example, if I chose an offset of 3 and a message of \"hello\", I would code my message by shifting each letter 3 places to the left (with respect to the alphabet). So \"h\" becomes \"e\", \"e\" becomes, \"b\", \"l\" becomes \"i\", and \"o\" becomes \"l\". Then I have my coded message,\"ebiil\"! Now I can send you my message and the offset and you can decode it. The best thing is that Julius Caesar himself used this cipher, that's why it's called the Caesar Cipher! Isn't that so cool! Okay, now I'm going to send you a longer coded message that you have to decode yourself!\n",
    "    \n",
    "        xuo jxuhu! jxyi yi qd unqcfbu ev q squiqh syfxuh. muhu oek qrbu je tusetu yj? y xefu ie! iudt cu q cuiiqwu rqsa myjx jxu iqcu evviuj!\n",
    "    \n",
    "    This message has an offset of 10. Can you decode it?\n",
    "    \n",
    "\n",
    "#### Step 1: Decode Vishal's Message\n",
    "In the cell below, use your Python skills to decode Vishal's message and print the result. Hint: you can account for shifts that go past the end of the alphabet using the modulus operator, but I'll let you figure out how!"
   ]
  },
  {
   "cell_type": "code",
   "execution_count": 7,
   "metadata": {},
   "outputs": [
    {
     "name": "stdout",
     "output_type": "stream",
     "text": [
      "{'a': 'k', 'b': 'l', 'c': 'm', 'd': 'n', 'e': 'o', 'f': 'p', 'g': 'q', 'h': 'r', 'i': 's', 'j': 't', 'k': 'u', 'l': 'v', 'm': 'w', 'n': 'x', 'o': 'y', 'p': 'z', 'q': 'a', 'r': 'b', 's': 'c', 't': 'd', 'u': 'e', 'v': 'f', 'w': 'g', 'x': 'h', 'y': 'i', 'z': 'j', ' ': ' '}\n",
      "hey there this is an example of a caesar cipher were you able to decode it i hope so send me a message back with the same offset\n"
     ]
    }
   ],
   "source": [
    "coded_message = \"xuo jxuhu! jxyi yi qd unqcfbu ev q squiqh syfxuh. muhu oek qrbu je tusetu yj? y xefu ie! iudt cu q cuiiqwu rqsa myjx jxu iqcu evviuj!\"\n",
    "decoded_message = \"\"\n",
    "#working variables\n",
    "alphabet = \"abcdefghijklmnopqrstuvwxyz \"\n",
    "offset = \"klmnopqrstuvwxyzabcdefghij \"\n",
    "zipped_a = zip(alphabet, offset)\n",
    "\n",
    "#Cypher\n",
    "dict_code = {key: value for key, value in zipped_a}\n",
    "print(dict_code)\n",
    "\n",
    "#decrypt\n",
    "def decoder(message, offset):\n",
    "for letter in coded_message:\n",
    "    for key in dict_code.keys():\n",
    "        if letter == key:\n",
    "            decoded_message += dict_code[key]\n",
    "\n",
    "print(decoded_message)\n",
    "    "
   ]
  },
  {
   "cell_type": "markdown",
   "metadata": {},
   "source": [
    "#### Step 2: Send Vishal a Coded Message\n",
    "Great job! Now send Vishal back a message using the same offset. Your message can be anything you want! Remember, coding happens in opposite direction of decoding."
   ]
  },
  {
   "cell_type": "code",
   "execution_count": 8,
   "metadata": {},
   "outputs": [
    {
     "name": "stdout",
     "output_type": "stream",
     "text": [
      "xuo lyixqb y xefu oekh secydw cuiiqwui wylu cu iecu xydji qi je cqau q vkdsjyed veh setydw qdt tusetydw\n"
     ]
    }
   ],
   "source": [
    "message_to_code = \"hey vishal i hope your coming messages give me some hints as to make a function for coding and decoding\"\n",
    "coded_message = \"\"\n",
    "\n",
    "alphabet = \"abcdefghijklmnopqrstuvwxyz \"\n",
    "offset = \"klmnopqrstuvwxyzabcdefghij \"\n",
    "zipped_a = zip(offset, alphabet)\n",
    "dict_code = {key: value for key, value in zipped_a}\n",
    "\n",
    "for letter in message_to_code:\n",
    "    for key in dict_code.keys():\n",
    "        if letter == key:\n",
    "            coded_message += dict_code[key]\n",
    "            \n",
    "print(coded_message)"
   ]
  },
  {
   "cell_type": "markdown",
   "metadata": {},
   "source": [
    "#### Step 3: Make functions for decoding and coding \n",
    "\n",
    "Vishal sent over another reply, this time with two coded messages!\n",
    "    \n",
    "    You're getting the hang of this! Okay here are two more messages, the first one is coded just like before with  an offset of ten, and it contains the hint for decoding the second message!\n",
    "    \n",
    "    First message:\n",
    "    \n",
    "        jxu evviuj veh jxu iusedt cuiiqwu yi vekhjuud.\n",
    "        \n",
    "    Second message:\n",
    "    \n",
    "        bqdradyuzs ygxfubxq omqemd oubtqde fa oapq kagd yqeemsqe ue qhqz yadq eqogdq!\n",
    "    \n",
    "Decode both of these messages. \n",
    "\n",
    "If you haven't already, define two functions `decoder(message, offset)` and `coder(message, offset)` that can be used to quickly decode and code messages given any offset."
   ]
  },
  {
   "cell_type": "code",
   "execution_count": 1,
   "metadata": {},
   "outputs": [
    {
     "name": "stdout",
     "output_type": "stream",
     "text": [
      "the offset for the second message is fourteen\n",
      "performing multiple caesar ciphers to code your messages is even more secure\n"
     ]
    }
   ],
   "source": [
    "def decoder(message, offset):\n",
    "  #Variables\n",
    "  alphabet = \"abcdefghijklmnopqrstuvwxyz \"\n",
    "  zip1 = zip(alphabet, range(26))\n",
    "  zip2 = zip(range(26), alphabet)\n",
    "  cypher = {key: value for key, value in zip1}\n",
    "  converter = {key: value for key, value in zip2}\n",
    "  temp_msg = \"\"\n",
    "  decoded_message = \"\"\n",
    "\n",
    "  #Convert message to numbers\n",
    "  for letter in message:\n",
    "    for key in cypher.keys():\n",
    "      if letter == key:\n",
    "        temp_msg += str(cypher[key]) + \" \"\n",
    "\n",
    "  #Apply Offet\n",
    "  split = temp_msg.split()\n",
    "  converted = []\n",
    " \n",
    "  for item in split:\n",
    "    temp_item = int(item) + int(offset)\n",
    "    if temp_item > 0:\n",
    "      item = temp_item % 26\n",
    "      converted.append(item)\n",
    "    else:\n",
    "      item = temp_item\n",
    "      converted.append(item)\n",
    "\n",
    "  #Convert to decoded message\n",
    "\n",
    "  for convert in converted:\n",
    "    for key in converter.keys():\n",
    "      if convert == key:\n",
    "        decoded_message += converter[key]\n",
    "\n",
    "  #Placing spaces between the words\n",
    "\n",
    "  space_tracker = [i for i, ltr in enumerate(message) if ltr == \" \"]\n",
    "    \n",
    "  for space in space_tracker:\n",
    "    decoded_message = decoded_message[:space] + \" \" + decoded_message[space:]\n",
    "\n",
    "  return decoded_message \n",
    "\n",
    "print(decoder(\"jxu evviuj veh jxu iusedt cuiiqwu yi vekhjuud\", 10))\n",
    "\n",
    "print(decoder(\"bqdradyuzs ygxfubxq omqemd oubtqde fa oapq kagd yqeemsqe ue qhqz yadq eqogdq\", 14))"
   ]
  },
  {
   "cell_type": "code",
   "execution_count": 2,
   "metadata": {},
   "outputs": [
    {
     "name": "stdout",
     "output_type": "stream",
     "text": [
      "hvsfs wg o hwas obr o dzoqs tcf hvwg hcatcczsfm obr hvwg wg bch wh\n"
     ]
    }
   ],
   "source": [
    "def coder(message, offset):\n",
    "  #Variables\n",
    "  alphabet = \"abcdefghijklmnopqrstuvwxyz \"\n",
    "  zip1 = zip(alphabet, range(26))\n",
    "  zip2 = zip(range(26), alphabet)\n",
    "  converter = {key: value for key, value in zip1}\n",
    "  coder = {key: value for key, value in zip2}\n",
    "  temp_msg = \"\"\n",
    "  coded_message = \"\"\n",
    "\n",
    "  #Convert message to numbers\n",
    "  for letter in message:\n",
    "    for key in converter.keys():\n",
    "      if letter == key:\n",
    "        temp_msg += str(converter[key]) + \" \"\n",
    "\n",
    "  #Apply Offset\n",
    "  split = temp_msg.split()\n",
    "  converted = []\n",
    " \n",
    "  for item in split:\n",
    "    temp_item = int(item) - int(offset)\n",
    "    if temp_item < 0:\n",
    "      item = temp_item % 26\n",
    "      converted.append(item)\n",
    "    else:\n",
    "      item = temp_item\n",
    "      converted.append(item)\n",
    "\n",
    "  #Convert to decoded message\n",
    "\n",
    "  for convert in converted:\n",
    "    for key in coder.keys():\n",
    "      if convert == key:\n",
    "        coded_message += coder[key]\n",
    "\n",
    "  #Placing spaces between the words\n",
    "\n",
    "  space_tracker = [i for i, ltr in enumerate(message) if ltr == \" \"]\n",
    "    \n",
    "  for space in space_tracker:\n",
    "    coded_message = coded_message[:space] + \" \" + coded_message[space:]\n",
    "\n",
    "  return coded_message \n",
    "\n",
    "print(coder(\"there is a time and a place for this tomfoolery and this is not it\", 12))"
   ]
  },
  {
   "cell_type": "markdown",
   "metadata": {},
   "source": [
    "#### Step 4: Solving a Caesar Cipher without knowing the shift value\n",
    "\n",
    "Awesome work! While you were working to decode his last two messages, Vishal sent over another letter! He's really been bitten by the crytpo-bug. Read it and see what interesting task he has lined up for you this time.\n",
    "\n",
    "            Hello again friend! I knew you would love the Caesar Cipher, it's a cool simple way to encrypt messages. Did you know that back in Caesar's time, it was considered a very secure way of communication and it took a lot of effort to crack if you were unaware of the value of the shift? That's all changed with computers! Now we can brute force these kinds of ciphers very quickly, as I'm sure you can imagine.\n",
    "            \n",
    "            To test your cryptography skills, this next coded message is going to be harder than the last couple to crack. It's still going to be coded with a Caesar Cipher but this time I'm not going to tell you the value of   the shift. You'll have to brute force it yourself.\n",
    "            \n",
    "            Here's the coded message:\n",
    "            \n",
    "            vhfinmxkl atox kxgwxkxw tee hy maxlx hew vbiaxkl tl hulhexmx. px'ee atox mh kxteer lmxi ni hnk ztfx by px ptgm mh dxxi hnk fxlltzxl ltyx.\n",
    "            \n",
    "            Good luck!\n",
    "            \n",
    "Decode Vishal's most recent message and see what it says!"
   ]
  },
  {
   "cell_type": "code",
   "execution_count": 5,
   "metadata": {},
   "outputs": [
    {
     "name": "stdout",
     "output_type": "stream",
     "text": [
      "109\n",
      "134\n",
      "[9, 14, 23, 27, 30, 36, 40, 48, 51, 60, 65, 70, 73, 80, 85, 88, 92, 97, 100, 103, 108, 111, 116, 120, 129]\n",
      "vhfinmxklnatoxnkxgwxkxwnteenhynmaxlxnhewnvbiaxklntlnhulhexmxnpxeenatoxnmhnkxteernlmxinninhnknztfxnbynpxnptgmnmhndxxinhnknfxlltzxlnltyx\n",
      "Is the Message Decoded? (Enter yes if Yes no if No)\n",
      "no\n",
      "wigjonylmobupyolyhxylyxouffoizonbymyoifxowcjbylmoumoivmifynyoqyffobupyoniolyuffsomnyjoojoioloaugyoczoqyoquhnonioeyyjoiologymmuaymomuzy\n",
      "Is the Message Decoded? (Enter yes if Yes no if No)\n",
      "no\n",
      "xjhkpozmnpcvqzpmziyzmzypvggpjapocznzpjgypxdkczmnpvnpjwnjgzozprzggpcvqzpojpmzvggtpnozkppkpjpmpbvhzpdaprzprviopojpfzzkpjpmphznnvbznpnvaz\n",
      "Is the Message Decoded? (Enter yes if Yes no if No)\n",
      "no\n",
      "ykilqpanoqdwraqnajzanazqwhhqkbqpdaoaqkhzqyeldanoqwoqkxokhapaqsahhqdwraqpkqnawhhuqopalqqlqkqnqcwiaqebqsaqswjpqpkqgaalqkqnqiaoowcaoqowba\n",
      "Is the Message Decoded? (Enter yes if Yes no if No)\n",
      "no\n",
      "zljmrqboprexsbrobkabobarxiirlcrqebpbrliarzfmeboprxprlyplibqbrtbiirexsbrqlrobxiivrpqbmrrmrlrordxjbrfcrtbrtxkqrqlrhbbmrlrorjbppxdbprpxcb\n",
      "Is the Message Decoded? (Enter yes if Yes no if No)\n",
      "no\n",
      "amknsrcpqsfytcspclbcpcbsyjjsmdsrfcqcsmjbsagnfcpqsyqsmzqmjcrcsucjjsfytcsrmspcyjjwsqrcnssnsmspseykcsgdsucsuylrsrmsiccnsmspskcqqyecqsqydc\n",
      "Is the Message Decoded? (Enter yes if Yes no if No)\n",
      "no\n",
      "bnlotsdqrtgzudtqdmcdqdctzkktnetsgdrdtnkctbhogdqrtzrtnarnkdsdtvdkktgzudtsntqdzkkxtrsdottotntqtfzldthetvdtvzmstsntjddotntqtldrrzfdrtrzed\n",
      "Is the Message Decoded? (Enter yes if Yes no if No)\n",
      "no\n",
      "computersuhaveurenderedualluofutheseuolduciphersuasuobsoleteuwelluhaveutoureallyustepuupuourugameuifuweuwantutoukeepuourumessagesusafe\n",
      "Is the Message Decoded? (Enter yes if Yes no if No)\n",
      "yes\n",
      "computers have rendered all of these old ciphers as obsolete well have to really step up our game if we want to keep our messages safe\n"
     ]
    }
   ],
   "source": [
    "def decoder(message):\n",
    "  #Variables\n",
    "  alphabet = \"abcdefghijklmnopqrstuvwxyz \"\n",
    "  temp_string = \"\"\n",
    "  final_string = \"\"\n",
    "  \n",
    "  #Where the spaces be at | Should update this for all punctuation as it currently does not know what to do with anything else and since it is modifying the charcter ID itself we need to track \n",
    "  # Positional Tracking for Punctuation\n",
    "  space_tracker = [i for i, ltr in enumerate(message) if ltr == \" \"]\n",
    "  period_tracker = [i for i, ltr in enumerate(message) if ltr == \".\"]\n",
    "  comma_tracker = [i for i, ltr in enumerate(message) if ltr == \",\"]\n",
    "  apostrophe_tracker = [i for i, ltr in enumerate(message) if ltr == \"'\"]\n",
    "  counter = 0\n",
    "  \n",
    "  while counter < 26:\n",
    "    temp_string = \"\".join(chr((ord(letter) - 97 + counter) % 26 + 97) for letter in message)\n",
    "    print(temp_string)\n",
    "    print(\"Is the Message Decoded? (Enter yes if Yes no if No)\")\n",
    "    is_decoded = input()\n",
    "    if is_decoded == \"yes\":\n",
    "      final_string = temp_string\n",
    "      break\n",
    "    if is_decoded == \"no\":\n",
    "      counter += 1\n",
    "\n",
    "\n",
    "  for space in space_tracker:\n",
    "    final_string = final_string[:space] + \" \" + final_string[space + 1:]\n",
    "  for period in period_tracker:\n",
    "    final_string = final_string[:period] + \".\" + final_string[period + 1:]\n",
    "  for comma in comma_tracker:\n",
    "    final_string = final_string[:comma] + \" \" + final_string[comma + 1:]\n",
    "  for apostrophe in apostrophe_tracker:\n",
    "    final_string = final_string[:apostrophe] + \"'\" + final_string[apostrophe + 1:]\n",
    "  \n",
    "  \n",
    "  return final_string\n",
    "\n",
    "print(decoder(\"vhfinmxkl atox kxgwxkxw tee hy maxlx hew vbiaxkl tl hulhexmx. px'ee atox mh kxteer lmxi ni hnk ztfx by px ptgm mh dxxi hnk fxlltzxl ltyx.\"))"
   ]
  },
  {
   "cell_type": "markdown",
   "metadata": {},
   "source": [
    "#### Step 5: The Vigenère Cipher\n",
    "\n",
    "Great work! While you were working on the brute force cracking of the cipher, Vishal sent over another letter. That guy is a letter machine!\n",
    "\n",
    "            Salutations! As you can see, technology has made brute forcing simple ciphers like the Caesar Cipher extremely easy, and us crypto-enthusiasts have had to get more creative and use more complicated ciphers. This next cipher I'm going to teach you is the Vigenère Cipher, invented by an Italian cryptologist named Giovan Battista Bellaso (cool name eh?) in the 16th century, but named after another cryptologist from the 16th century, Blaise de Vigenère.\n",
    "            \n",
    "           The Vigenère Cipher is a polyalphabetic substitution cipher, as opposed to the Caesar Cipher which was a monoalphabetic substitution cipher. What this means is that opposed to having a single shift that is applied to every letter, the Vigenère Cipher has a different shift for each individual letter. The value of the shift for each letter is determined by a given keyword.\n",
    "           \n",
    "           Consider the message\n",
    "           \n",
    "               barry is the spy\n",
    "\n",
    "           If we want to code this message, first we choose a keyword. For this example, we'll use the keyword\n",
    "           \n",
    "               dog\n",
    "               \n",
    "           Now we use the repeat the keyword over and over to generate a _keyword phrase_ that is the same length as the message we want to code. So if we want to code the message \"barry is the spy\" our _keyword phrase_ is \"dogdo gd ogd ogd\". Now we are ready to start coding our message. We shift the each letter of our message by the place value of the corresponding letter in the keyword phrase, assuming that \"a\" has a place value of 0, \"b\" has a place value of 1, and so forth. Remember, we zero-index because this is Python we're talking about!\n",
    "\n",
    "                        message:       b  a  r  r  y    i  s   t  h  e   s  p  y\n",
    "                \n",
    "                 keyword phrase:       d  o  g  d  o    g  d   o  g  d   o  g  d\n",
    "                 \n",
    "          resulting place value:       4  14 15 12 16   24 11  21 25 22  22 17 5\n",
    "      \n",
    "            So we shift \"b\", which has an index of 1, by the index of \"d\", which is 3. This gives us an place value of 4, which is \"e\". Then continue the trend: we shift \"a\" by the place value of \"o\", 14, and get \"o\" again, we shift \"r\" by the place value of \"g\", 15, and get \"x\", shift the next \"r\" by 12 places and \"u\", and so forth. Once we complete all the shifts we end up with our coded message:\n",
    "            \n",
    "                eoxum ov hnh gvb\n",
    "                \n",
    "            As you can imagine, this is a lot harder to crack without knowing the keyword! So now comes the hard part. I'll give you a message and the keyword, and you'll see if you can figure out how to crack it! Ready? Okay here's my message:\n",
    "            \n",
    "                dfc aruw fsti gr vjtwhr wznj? vmph otis! cbx swv jipreneo uhllj kpi rahjib eg fjdkwkedhmp!\n",
    "                \n",
    "            and the keyword to decode my message is \n",
    "            \n",
    "                friends\n",
    "                \n",
    "            Because that's what we are! Good luck friend!\n",
    "           \n",
    "And there it is. Vishal has given you quite the assignment this time! Try to decode his message. It may be helpful to create a function that takes two parameters, the coded message and the keyword and then work towards a solution from there.\n",
    "\n",
    "**NOTE:** Watch out for spaces and punctuation! When there's a space or punctuation mark in the original message, there should be a space/punctuation mark in the corresponding repeated-keyword string as well! "
   ]
  },
  {
   "cell_type": "code",
   "execution_count": 1,
   "metadata": {},
   "outputs": [
    {
     "name": "stdout",
     "output_type": "stream",
     "text": [
      "[-2, -12, -6, -65, -4, 4, 17, 4, -65, 0, 1, 11, 4, -65, -7, 14, -65, 3, 4, 2, 14, 3, 4, -65, 19, 7, 8, -8, -34, -65, 13, 8, 2, 4, -65, -4, 14, -9, 10, -64, -65, -2, -12, 20, -65, 0, 17, 4, -65, 1, 4, 2, 14, -14, 8, -13, 6, -65, 16, -6, 8, -7, 4, -65, -7, 7, 4, -65, 4, -3, -11, 4, -9, -7, -65, 0, -7, -65, 2, -9, -2, -7, 14, 6, -9, 0, -11, 7, -2, -64]\n",
      "you were able to decode this? nice work! you are becoming quite the expert at crytography!\n"
     ]
    }
   ],
   "source": [
    "import string\n",
    "\n",
    "def Vdecoder(message, keyword):\n",
    "  key = list(keyword)\n",
    "  key_phrase = \"\"\n",
    "  punct = string.punctuation + \" \"\n",
    "  final_string = \"\"\n",
    "\n",
    "  counter = 0\n",
    "\n",
    "  for letter in message:\n",
    "    if letter not in punct:\n",
    "        key_phrase += key[counter % len(keyword)]\n",
    "        counter += 1\n",
    "    if letter in punct:\n",
    "      key_phrase += letter\n",
    "  \n",
    "  message_ords = []\n",
    "  key_ords = []\n",
    "  ords_sum = []\n",
    "\n",
    "  for letter in message:\n",
    "    message_ords.append((ord(letter)-97))\n",
    "\n",
    "  for letter in key_phrase:\n",
    "    otemp = (ord(letter)-97)\n",
    "    if otemp < -1:\n",
    "      key_ords.append((otemp - (otemp)))\n",
    "    else:\n",
    "      key_ords.append(otemp)\n",
    "\n",
    "  subtraction = [x - y for x,y in zip(message_ords, key_ords)]\n",
    "  \n",
    "  print(subtraction)\n",
    "\n",
    "  for num in subtraction:\n",
    "    if num >= 0 and num <= 26:\n",
    "      final_string += chr((num)+97) \n",
    "    if num < 0 and num> -29:\n",
    "      temp = num % 26\n",
    "      final_string += chr((temp)+97)\n",
    "    if num < -30:\n",
    "      final_string += chr(num+97)\n",
    "    \n",
    "  return final_string\n",
    "    \n",
    "\n",
    "print(Vdecoder(\"dfc aruw fsti gr vjtwhr wznj? vmph otis! cbx swv jipreneo uhllj kpi rahjib eg fjdkwkedhmp!\", \"friends\"))"
   ]
  },
  {
   "cell_type": "markdown",
   "metadata": {
    "collapsed": true
   },
   "source": [
    "#### Step 6: Send a message with the  Vigenère Cipher\n",
    "Great work decoding the message. For your final task, write a function that can encode a message using a given keyword and write out a message to send to Vishal!\n",
    "\n",
    "*As a bonus, try calling your decoder function on the result of your encryption function. You should get the original message back!*"
   ]
  },
  {
   "cell_type": "code",
   "execution_count": 1,
   "metadata": {},
   "outputs": [
    {
     "name": "stdout",
     "output_type": "stream",
     "text": [
      "[23, -65, 21, 19, 19, 23, -65, 29, 29, 33, 19, 19, 33, -65, 20, 35, 33, 37, -65, 21, 27, 32, 22, 14, 30]\n",
      "x vttx ddhtth ujhl vbgwoe\n"
     ]
    }
   ],
   "source": [
    "import string\n",
    "\n",
    "def Vcoder(message, keyword):\n",
    "  key = list(keyword)\n",
    "  key_phrase = \"\"\n",
    "  punct = string.punctuation + \" \"\n",
    "  final_string = \"\"\n",
    "\n",
    "  counter = 0\n",
    "\n",
    "  for letter in message:\n",
    "    if letter not in punct:\n",
    "        key_phrase += key[counter % len(keyword)]\n",
    "        counter += 1\n",
    "    if letter in punct:\n",
    "      key_phrase += letter\n",
    "  \n",
    "  message_ords = []\n",
    "  key_ords = []\n",
    "  ords_sum = []\n",
    "\n",
    "  for letter in message:\n",
    "    message_ords.append((ord(letter)-97))\n",
    "\n",
    "  for letter in key_phrase:\n",
    "    otemp = (ord(letter)-97)\n",
    "    if otemp < -1:\n",
    "      key_ords.append((otemp - (otemp)))\n",
    "    else:\n",
    "      key_ords.append(otemp)\n",
    "\n",
    "  addition = [x + y for x,y in zip(message_ords, key_ords)]\n",
    "  \n",
    "  print(addition)\n",
    "\n",
    "  for num in addition:\n",
    "    if num >= 0 and num < 26:\n",
    "      final_string += chr((num)+97) \n",
    "    if num >= 26:\n",
    "      temp = num % 26\n",
    "      final_string += chr((temp)+97)\n",
    "    if num < -1:\n",
    "      final_string += chr(num+97)\n",
    "    \n",
    "  return final_string\n",
    "\n",
    "print(Vcoder(\"i hate potato guts vishal\", \"potato\"))\n"
   ]
  },
  {
   "cell_type": "markdown",
   "metadata": {},
   "source": [
    "#### Conclusion\n",
    "Over the course of this project you've learned about two different cipher methods and have used your Python skills to code and decode messages. There are all types of other facinating ciphers out there to explore, and Python is the perfect language to implement them with, so go exploring! "
   ]
  }
 ],
 "metadata": {
  "kernelspec": {
   "display_name": "Python 3 (ipykernel)",
   "language": "python",
   "name": "python3"
  },
  "language_info": {
   "codemirror_mode": {
    "name": "ipython",
    "version": 3
   },
   "file_extension": ".py",
   "mimetype": "text/x-python",
   "name": "python",
   "nbconvert_exporter": "python",
   "pygments_lexer": "ipython3",
   "version": "3.9.13"
  }
 },
 "nbformat": 4,
 "nbformat_minor": 2
}
